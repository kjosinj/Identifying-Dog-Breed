{
 "cells": [
  {
   "cell_type": "code",
   "execution_count": 2,
   "id": "1b7556c9",
   "metadata": {},
   "outputs": [],
   "source": [
    "import tensorflow as tf\n",
    "from tensorflow import keras\n",
    "import pandas as pd\n",
    "import numpy as np\n",
    "import matplotlib.pyplot as plt\n",
    "from PIL import Image\n",
    "import PIL\n",
    "from tensorflow.keras import datasets, layers, models\n",
    "import keras_tuner as kt\n",
    "\n",
    "import os\n",
    "from keras.layers import Lambda, Input, Dense, Dropout, Flatten, Conv2D, MaxPooling2D, Activation, SpatialDropout2D, GlobalAveragePooling2D "
   ]
  },
  {
   "cell_type": "code",
   "execution_count": 3,
   "id": "b74d36af",
   "metadata": {},
   "outputs": [],
   "source": [
    "train_dir = \"C:/Users/kjosh/OneDrive/Documents/UChicago/ADSP 31009 - Machine Learning & Predictive Analytics/Final Project/Train_Test_Split/train/\" "
   ]
  },
  {
   "cell_type": "code",
   "execution_count": 4,
   "id": "01b6084b",
   "metadata": {},
   "outputs": [],
   "source": [
    "test_dir = \"C:/Users/kjosh/OneDrive/Documents/UChicago/ADSP 31009 - Machine Learning & Predictive Analytics/Final Project/Train_Test_Split/test/\" "
   ]
  },
  {
   "cell_type": "code",
   "execution_count": 5,
   "id": "fcc7e02e",
   "metadata": {},
   "outputs": [],
   "source": [
    "target_size = (224, 224)"
   ]
  },
  {
   "cell_type": "code",
   "execution_count": 6,
   "id": "e4d67d17",
   "metadata": {},
   "outputs": [],
   "source": [
    "batch_size = 100"
   ]
  },
  {
   "cell_type": "code",
   "execution_count": 7,
   "id": "204c340c",
   "metadata": {},
   "outputs": [],
   "source": [
    "train_datagen = tf.keras.preprocessing.image.ImageDataGenerator(\n",
    "    rescale=1./255,\n",
    "    shear_range = 0.3,\n",
    "    zoom_range = 0.3,\n",
    "    horizontal_flip=True,\n",
    "    rotation_range = 30\n",
    ")"
   ]
  },
  {
   "cell_type": "code",
   "execution_count": 8,
   "id": "94040c21",
   "metadata": {},
   "outputs": [
    {
     "name": "stdout",
     "output_type": "stream",
     "text": [
      "Found 17651 images belonging to 120 classes.\n"
     ]
    }
   ],
   "source": [
    "train_generator = train_datagen.flow_from_directory(\n",
    "        train_dir,\n",
    "        target_size=target_size,\n",
    "        batch_size=batch_size,\n",
    "        class_mode='categorical')"
   ]
  },
  {
   "cell_type": "code",
   "execution_count": 9,
   "id": "6c285619",
   "metadata": {},
   "outputs": [],
   "source": [
    "test_datagen = tf.keras.preprocessing.image.ImageDataGenerator(\n",
    "    rescale=1./255)"
   ]
  },
  {
   "cell_type": "code",
   "execution_count": 10,
   "id": "8bb27b4f",
   "metadata": {},
   "outputs": [
    {
     "name": "stdout",
     "output_type": "stream",
     "text": [
      "Found 4475 images belonging to 120 classes.\n"
     ]
    }
   ],
   "source": [
    "test_generator = test_datagen.flow_from_directory(\n",
    "    test_dir,\n",
    "    target_size=target_size,\n",
    "    batch_size=batch_size,\n",
    "    class_mode='categorical',\n",
    "    shuffle=False\n",
    ")"
   ]
  },
  {
   "cell_type": "code",
   "execution_count": 11,
   "id": "bcda46f2",
   "metadata": {},
   "outputs": [
    {
     "name": "stdout",
     "output_type": "stream",
     "text": [
      "Image shape of each training observation: (224, 224, 3)\n"
     ]
    }
   ],
   "source": [
    "# Image shape of each training observation\n",
    "image_shape = train_generator.image_shape\n",
    "print(\"Image shape of each training observation:\", image_shape)"
   ]
  },
  {
   "cell_type": "code",
   "execution_count": 12,
   "id": "047b6a6b",
   "metadata": {},
   "outputs": [],
   "source": [
    "classifier = keras.Sequential()\n",
    "\n",
    "classifier.add(Conv2D(32, (3, 3), input_shape=(224, 224, 3), activation='relu'))\n",
    "classifier.add(Conv2D(32, (3, 3), activation='relu'))\n",
    "classifier.add(MaxPooling2D(pool_size=(2, 2)))\n",
    "classifier.add(Conv2D(32, (3, 3), activation='relu'))\n",
    "classifier.add(Conv2D(32, (3, 3), activation='relu'))\n",
    "classifier.add(Flatten())\n",
    "classifier.add(Dense(units=64, activation='relu'))\n",
    "classifier.add(Dropout(0.5))\n",
    "classifier.add(Dense(units=120, activation='softmax'))"
   ]
  },
  {
   "cell_type": "code",
   "execution_count": 13,
   "id": "59f96625",
   "metadata": {},
   "outputs": [],
   "source": [
    "classifier.compile(\n",
    "    optimizer=keras.optimizers.Adam(learning_rate=.001),\n",
    "    loss='categorical_crossentropy',\n",
    "    metrics=['accuracy']\n",
    ")"
   ]
  },
  {
   "cell_type": "code",
   "execution_count": 14,
   "id": "79369d47",
   "metadata": {},
   "outputs": [
    {
     "name": "stdout",
     "output_type": "stream",
     "text": [
      "Model: \"sequential\"\n",
      "_________________________________________________________________\n",
      " Layer (type)                Output Shape              Param #   \n",
      "=================================================================\n",
      " conv2d (Conv2D)             (None, 222, 222, 32)      896       \n",
      "                                                                 \n",
      " conv2d_1 (Conv2D)           (None, 220, 220, 32)      9248      \n",
      "                                                                 \n",
      " max_pooling2d (MaxPooling2  (None, 110, 110, 32)      0         \n",
      " D)                                                              \n",
      "                                                                 \n",
      " conv2d_2 (Conv2D)           (None, 108, 108, 32)      9248      \n",
      "                                                                 \n",
      " conv2d_3 (Conv2D)           (None, 106, 106, 32)      9248      \n",
      "                                                                 \n",
      " flatten (Flatten)           (None, 359552)            0         \n",
      "                                                                 \n",
      " dense (Dense)               (None, 64)                23011392  \n",
      "                                                                 \n",
      " dropout (Dropout)           (None, 64)                0         \n",
      "                                                                 \n",
      " dense_1 (Dense)             (None, 120)               7800      \n",
      "                                                                 \n",
      "=================================================================\n",
      "Total params: 23047832 (87.92 MB)\n",
      "Trainable params: 23047832 (87.92 MB)\n",
      "Non-trainable params: 0 (0.00 Byte)\n",
      "_________________________________________________________________\n"
     ]
    }
   ],
   "source": [
    "classifier.summary()"
   ]
  },
  {
   "cell_type": "code",
   "execution_count": 15,
   "id": "b4fa5a57",
   "metadata": {},
   "outputs": [
    {
     "name": "stdout",
     "output_type": "stream",
     "text": [
      "Epoch 1/10\n",
      "10/10 [==============================] - 279s 28s/step - loss: 4.9270 - accuracy: 0.0170 - val_loss: 4.7872 - val_accuracy: 0.0103\n",
      "Epoch 2/10\n",
      "10/10 [==============================] - 270s 28s/step - loss: 4.7882 - accuracy: 0.0070 - val_loss: 4.7873 - val_accuracy: 0.0114\n",
      "Epoch 3/10\n",
      "10/10 [==============================] - 233s 24s/step - loss: 4.7873 - accuracy: 0.0090 - val_loss: 4.7869 - val_accuracy: 0.0112\n",
      "Epoch 4/10\n",
      "10/10 [==============================] - 241s 25s/step - loss: 4.7867 - accuracy: 0.0110 - val_loss: 4.7867 - val_accuracy: 0.0098\n",
      "Epoch 5/10\n",
      "10/10 [==============================] - 281s 29s/step - loss: 4.7867 - accuracy: 0.0080 - val_loss: 4.7864 - val_accuracy: 0.0094\n",
      "Epoch 6/10\n",
      "10/10 [==============================] - 249s 25s/step - loss: 4.7868 - accuracy: 0.0100 - val_loss: 4.7855 - val_accuracy: 0.0105\n",
      "Epoch 7/10\n",
      "10/10 [==============================] - 228s 24s/step - loss: 4.7895 - accuracy: 0.0120 - val_loss: 4.7860 - val_accuracy: 0.0127\n",
      "Epoch 8/10\n",
      "10/10 [==============================] - 267s 28s/step - loss: 4.7852 - accuracy: 0.0140 - val_loss: 4.7858 - val_accuracy: 0.0139\n",
      "Epoch 9/10\n",
      "10/10 [==============================] - 256s 26s/step - loss: 4.7856 - accuracy: 0.0150 - val_loss: 4.7853 - val_accuracy: 0.0143\n",
      "Epoch 10/10\n",
      "10/10 [==============================] - 231s 24s/step - loss: 4.7854 - accuracy: 0.0140 - val_loss: 4.7847 - val_accuracy: 0.0150\n"
     ]
    }
   ],
   "source": [
    "history = classifier.fit(train_generator, epochs=10, steps_per_epoch=10, validation_data = test_generator)"
   ]
  },
  {
   "cell_type": "code",
   "execution_count": 16,
   "id": "c0b7eb90",
   "metadata": {},
   "outputs": [],
   "source": [
    "history_df = pd.DataFrame(history.history)"
   ]
  },
  {
   "cell_type": "code",
   "execution_count": 18,
   "id": "f4f67f16",
   "metadata": {},
   "outputs": [
    {
     "data": {
      "image/png": "[encoded data removed]",
      "text/plain": [
       "<Figure size 432x288 with 1 Axes>"
      ]
     },
     "metadata": {
      "needs_background": "light"
     },
     "output_type": "display_data"
    }
   ],
   "source": [
    "plt.plot(history.history['accuracy'])\n",
    "plt.plot(history.history['val_accuracy'])\n",
    "plt.title('model accuracy')\n",
    "plt.ylabel('accuracy')\n",
    "plt.xlabel('epoch')\n",
    "plt.legend(['train', 'val'], loc='upper left')\n",
    "plt.show()"
   ]
  }
 ],
 "metadata": {
  "kernelspec": {
   "display_name": "Python 3",
   "language": "python",
   "name": "python3"
  },
  "language_info": {
   "codemirror_mode": {
    "name": "ipython",
    "version": 3
   },
   "file_extension": ".py",
   "mimetype": "text/x-python",
   "name": "python",
   "nbconvert_exporter": "python",
   "pygments_lexer": "ipython3",
   "version": "3.8.8"
  }
 },
 "nbformat": 4,
 "nbformat_minor": 5
}
